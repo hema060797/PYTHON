{
 "cells": [
  {
   "cell_type": "markdown",
   "metadata": {},
   "source": [
    "# STRING"
   ]
  },
  {
   "cell_type": "raw",
   "metadata": {},
   "source": [
    "String literals in python are surrounded by either single or double quotation marks.\n",
    "eg:'data' is same as \"data\"\n"
   ]
  },
  {
   "cell_type": "code",
   "execution_count": 1,
   "metadata": {},
   "outputs": [
    {
     "name": "stdout",
     "output_type": "stream",
     "text": [
      "data\n",
      "data\n"
     ]
    }
   ],
   "source": [
    "print('data')\n",
    "print(\"data\")"
   ]
  },
  {
   "cell_type": "code",
   "execution_count": 3,
   "metadata": {},
   "outputs": [
    {
     "name": "stdout",
     "output_type": "stream",
     "text": [
      "hello viewers\n"
     ]
    }
   ],
   "source": [
    "#ASSIGNING  STRING TO A VARIABLE - by = sign\n",
    "Var_name=\"hello viewers\"\n",
    "print(Var_name)"
   ]
  },
  {
   "cell_type": "code",
   "execution_count": 4,
   "metadata": {},
   "outputs": [
    {
     "name": "stdout",
     "output_type": "stream",
     "text": [
      "Hello\n",
      "Hello\n"
     ]
    }
   ],
   "source": [
    "#MULTILINE STRINGS- using  three quotes\n",
    "var1=\"\"\"Hello\"\"\"   \n",
    "var2='''Hello'''\n",
    "print(var1)\n",
    "print(var2)"
   ]
  },
  {
   "cell_type": "raw",
   "metadata": {},
   "source": [
    "Strings in Python are arrays of bytes representing unicode characters\n"
   ]
  },
  {
   "cell_type": "markdown",
   "metadata": {},
   "source": [
    "# TO ACCESS ELEMENTS\n",
    "Square brackets can be used to access elements of the string(remember that the first character has the position 0)\n"
   ]
  },
  {
   "cell_type": "code",
   "execution_count": 6,
   "metadata": {},
   "outputs": [
    {
     "name": "stdout",
     "output_type": "stream",
     "text": [
      "H\n"
     ]
    }
   ],
   "source": [
    "a =\"Hello\"   \n",
    "print(a[0])  "
   ]
  },
  {
   "cell_type": "markdown",
   "metadata": {},
   "source": [
    "# Slicing"
   ]
  },
  {
   "cell_type": "raw",
   "metadata": {},
   "source": [
    "*return a range of characters\n",
    "*Specify the start index and the end index, separated by a colon, to return a part of the string.\n"
   ]
  },
  {
   "cell_type": "code",
   "execution_count": 7,
   "metadata": {},
   "outputs": [
    {
     "name": "stdout",
     "output_type": "stream",
     "text": [
      "data\n"
     ]
    }
   ],
   "source": [
    "var=\"data science\" \n",
    "print(var[0:4])\n"
   ]
  },
  {
   "cell_type": "markdown",
   "metadata": {},
   "source": [
    "# NEGATIVE INDEXING\n"
   ]
  },
  {
   "cell_type": "raw",
   "metadata": {},
   "source": [
    "Use negative indexes to start the slice from the end of the string\n"
   ]
  },
  {
   "cell_type": "code",
   "execution_count": 8,
   "metadata": {},
   "outputs": [
    {
     "name": "stdout",
     "output_type": "stream",
     "text": [
      "en\n"
     ]
    }
   ],
   "source": [
    "var=\"data science\" \n",
    "print(var[-4:-2])   \n"
   ]
  },
  {
   "cell_type": "markdown",
   "metadata": {},
   "source": [
    "# STRING LENGTH\n",
    "The len() function returns the length of a string\n"
   ]
  },
  {
   "cell_type": "code",
   "execution_count": 9,
   "metadata": {},
   "outputs": [
    {
     "name": "stdout",
     "output_type": "stream",
     "text": [
      "12\n"
     ]
    }
   ],
   "source": [
    "var=\"data science\"  \n",
    "print(len(var))\n"
   ]
  },
  {
   "cell_type": "markdown",
   "metadata": {},
   "source": [
    "# String Methods\n",
    "strip()-removes any white spaces at the beginning and a ending\n",
    "lower(),upper()-return lower and upper case \n",
    "replace()-replace the string with another string\n",
    "split()-splits the string into substrings if it finds instances of the separator\n"
   ]
  },
  {
   "cell_type": "code",
   "execution_count": 11,
   "metadata": {},
   "outputs": [
    {
     "data": {
      "text/plain": [
       "'Hello,Data Aspirants'"
      ]
     },
     "execution_count": 11,
     "metadata": {},
     "output_type": "execute_result"
    }
   ],
   "source": [
    "a=\"Hello,Data Aspirants  \"\n",
    "a.strip()\n"
   ]
  },
  {
   "cell_type": "code",
   "execution_count": 12,
   "metadata": {},
   "outputs": [
    {
     "data": {
      "text/plain": [
       "'hello,data aspirants  '"
      ]
     },
     "execution_count": 12,
     "metadata": {},
     "output_type": "execute_result"
    }
   ],
   "source": [
    "a.lower()\n"
   ]
  },
  {
   "cell_type": "code",
   "execution_count": 13,
   "metadata": {},
   "outputs": [
    {
     "data": {
      "text/plain": [
       "'HELLO,DATA ASPIRANTS  '"
      ]
     },
     "execution_count": 13,
     "metadata": {},
     "output_type": "execute_result"
    }
   ],
   "source": [
    "a.upper()\n"
   ]
  },
  {
   "cell_type": "code",
   "execution_count": 14,
   "metadata": {},
   "outputs": [
    {
     "data": {
      "text/plain": [
       "'Hello Data Aspirants  '"
      ]
     },
     "execution_count": 14,
     "metadata": {},
     "output_type": "execute_result"
    }
   ],
   "source": [
    "a.replace(',' ,' ')\n"
   ]
  },
  {
   "cell_type": "code",
   "execution_count": 15,
   "metadata": {},
   "outputs": [
    {
     "data": {
      "text/plain": [
       "['Hello,Data', 'Aspirants']"
      ]
     },
     "execution_count": 15,
     "metadata": {},
     "output_type": "execute_result"
    }
   ],
   "source": [
    "a.split() "
   ]
  },
  {
   "cell_type": "markdown",
   "metadata": {},
   "source": [
    "# String Concatenation\n",
    "To concatenate, or combine, two strings using + operator.\n"
   ]
  },
  {
   "cell_type": "code",
   "execution_count": 16,
   "metadata": {},
   "outputs": [
    {
     "name": "stdout",
     "output_type": "stream",
     "text": [
      "data_science_beginner\n"
     ]
    }
   ],
   "source": [
    "a=\"data_science_\"\n",
    "b=\"beginner\"\n",
    "c=a+b\n",
    "print(c)\n"
   ]
  },
  {
   "cell_type": "markdown",
   "metadata": {},
   "source": [
    "# String Format\n",
    "String format:combine strings and numbers by using the format() method, takes the passed arguments, formats them, and places them in the string where the placeholders {}\n"
   ]
  },
  {
   "cell_type": "code",
   "execution_count": 17,
   "metadata": {},
   "outputs": [
    {
     "name": "stdout",
     "output_type": "stream",
     "text": [
      "welcome all ,and i am 1\n"
     ]
    }
   ],
   "source": [
    "age=1\n",
    "text=\"welcome all ,and i am {}\"\n",
    "print(text.format(age))\n"
   ]
  },
  {
   "cell_type": "markdown",
   "metadata": {},
   "source": [
    "# STRING -BUILT_IN METHODS"
   ]
  },
  {
   "cell_type": "raw",
   "metadata": {},
   "source": [
    "Python has a set of built-in methods that you can use on strings.\n",
    "* All string methods returns new values. They do not change the original string.\n",
    "Method\t          Description\n",
    "capitalize()-Converts the first character to upper case\n",
    "casefold()\t-Converts string into lower case\n",
    "center()\t-Returns a centered string\n",
    "count()\t-Returns the number of times a specified value occurs in a string\n",
    "encode()-\tReturns an encoded version of the string\n",
    "endswith()-\tReturns true if the string ends with the specified value\n",
    "expandtabs()-\tSets the tab size of the string\n",
    "find()-\tSearches the string for a specified value and returns the position of where it was found\n",
    "format()-\tFormats specified values in a string\n",
    "format_map()-\tFormats specified values in a string\n",
    "index()\t-Searches the string for a specified value and returns the position of where it was found\n",
    "isalnum()-\tReturns True if all characters in the string are alphanumeric\n",
    "isalpha()-\tReturns True if all characters in the string are in the alphabet\n",
    "isdecimal()-\tReturns True if all characters in the string are decimals\n",
    "isdigit()-\tReturns True if all characters in the string are digits\n",
    "isidentifier()-\tReturns True if the string is an identifier\n",
    "islower()-\tReturns True if all characters in the string are lower case\n",
    "isnumeric()\t-Returns True if all characters in the string are numeric\n",
    "isprintable()-\tReturns True if all characters in the string are printable\n",
    "isspace()\t-Returns True if all characters in the string are whitespaces\n",
    "istitle()-\tReturns True if the string follows the rules of a title\n",
    "isupper()-\tReturns True if all characters in the string are upper case\n",
    "join()\t-Joins the elements of an iterable to the end of the string\n",
    "ljust()-\tReturns a left justified version of the string\n",
    "lower()\t-Converts a string into lower case\n",
    "lstrip()\t-Returns a left trim version of the string\n",
    "maketrans()-\tReturns a translation table to be used in translations\n",
    "partition()\t-Returns a tuple where the string is parted into three parts\n",
    "replace()-\tReturns a string where a specified value is replaced with a specified value\n",
    "rfind()\t-Searches the string for a specified value and returns the last position of where it was found\n",
    "rindex()-\tSearches the string for a specified value and returns the last position of where it was found\n",
    "rjust()\t-Returns a right justified version of the string\n",
    "rpartition()-\tReturns a tuple where the string is parted into three parts\n",
    "rsplit()-\tSplits the string at the specified separator, and returns a list\n",
    "rstrip()-\tReturns a right trim version of the string\n",
    "split()-\tSplits the string at the specified separator, and returns a list\n",
    "splitlines()-\tSplits the string at line breaks and returns a list\n",
    "startswith()-\tReturns true if the string starts with the specified value\n",
    "strip()-\tReturns a trimmed version of the string\n",
    "swapcase()-\tSwaps cases, lower case becomes upper case and vice versa\n",
    "title()-\tConverts the first character of each word to upper case\n",
    "translate()-\tReturns a translated string\n",
    "upper()\t-Converts a string into upper case\n",
    "zfill()-\tFills the string with a specified number of 0 values at the beginning\n",
    "\n",
    "\n"
   ]
  }
 ],
 "metadata": {
  "kernelspec": {
   "display_name": "Python 3",
   "language": "python",
   "name": "python3"
  },
  "language_info": {
   "codemirror_mode": {
    "name": "ipython",
    "version": 3
   },
   "file_extension": ".py",
   "mimetype": "text/x-python",
   "name": "python",
   "nbconvert_exporter": "python",
   "pygments_lexer": "ipython3",
   "version": "3.7.6"
  }
 },
 "nbformat": 4,
 "nbformat_minor": 4
}
