{
 "cells": [
  {
   "cell_type": "markdown",
   "metadata": {},
   "source": [
    "# BASICS"
   ]
  },
  {
   "cell_type": "markdown",
   "metadata": {},
   "source": [
    "# Python"
   ]
  },
  {
   "cell_type": "markdown",
   "metadata": {},
   "source": [
    "Python is an easy to learn, powerful programming language. \n",
    " It was created by Guido van Rossum, and released in 1991.\n",
    "\n",
    "It is used for:\n",
    "\n",
    "web development (server-side),\n",
    "software development,\n",
    "mathematics,\n",
    "system scripting.\n",
    "\n",
    "*create web applications\n",
    "*used alongside software to create workflows\n",
    "*connect to database systems,It can also read and modify files\n",
    "*used to handle big data and perform complex mathematics"
   ]
  },
  {
   "cell_type": "markdown",
   "metadata": {},
   "source": [
    "# why python\n"
   ]
  },
  {
   "cell_type": "raw",
   "metadata": {},
   "source": [
    "works on different platforms (Windows, Mac, Linux, Raspberry Pi, etc).\n",
    " simple syntax similar to the English language.\n",
    "syntax that allows developers to write programs with fewer lines than some other programming languages.\n",
    "Python runs on an interpreter system, .meaning that code can be executed as soon as it is written This means that prototyping can be very quick\n",
    "Python can be treated in a procedural way, an object-orientated way or a functional way"
   ]
  },
  {
   "cell_type": "markdown",
   "metadata": {},
   "source": [
    "The Python interpreter and the extensive standard library are freely available in source or binary form for all major platforms from the Python Web site, https://www.python.org/, and may be freely distributed.\n",
    "The same site also contains distributions of and pointers to many free third party Python modules, programs and tools, and additional documentation.\n",
    "Python gives powerful toolset for Mathematics, Statistics, and Computational Science  with various libraries like NumPy, Pandas, SciPy, Scikit-Learn.\n",
    " As a result, Python dominates the Machine Learning/Deep Learning/Data Science landscape and other Scientific domain.\n",
    " \n",
    " \n",
    " \n",
    " The Latest version of python is 3.8.3 Download the latest version of python using this link\n",
    "https://www.python.org/downloads/\n",
    "IDE:\n",
    "ANACONDA NAVIGATOR\n",
    "https://www.anaconda.com/products/individual"
   ]
  },
  {
   "cell_type": "markdown",
   "metadata": {},
   "source": []
  },
  {
   "cell_type": "raw",
   "metadata": {},
   "source": []
  },
  {
   "cell_type": "markdown",
   "metadata": {},
   "source": [
    "# Python indentation"
   ]
  },
  {
   "cell_type": "markdown",
   "metadata": {},
   "source": [
    "Python provides no braces to indicate blocks of code for class and function definitions or flow control. Blocks of code are denoted by line indentation, which is rigidly enforced.\n",
    "\n",
    "Python indentation is a way of telling the Python interpreter that a series of statements belong to a particular block of code"
   ]
  },
  {
   "cell_type": "raw",
   "metadata": {},
   "source": [
    "why indentation is important in python?\n",
    "\n",
    "Python uses uniform indentation to mark block of statements"
   ]
  },
  {
   "cell_type": "code",
   "execution_count": null,
   "metadata": {},
   "outputs": [],
   "source": []
  },
  {
   "cell_type": "code",
   "execution_count": 50,
   "metadata": {},
   "outputs": [
    {
     "name": "stdout",
     "output_type": "stream",
     "text": [
      "i is lesser\n"
     ]
    }
   ],
   "source": [
    "i=1\n",
    "if i>2:\n",
    "    print(\"i is greater\")\n",
    "else:\n",
    "    print(\"i is lesser\")"
   ]
  },
  {
   "cell_type": "markdown",
   "metadata": {},
   "source": [
    "# Python Comments"
   ]
  },
  {
   "cell_type": "raw",
   "metadata": {},
   "source": [
    "Used to  explain python code\n",
    "Make the code more readable\n",
    "prevent execution when testing code"
   ]
  },
  {
   "cell_type": "code",
   "execution_count": 45,
   "metadata": {},
   "outputs": [
    {
     "name": "stdout",
     "output_type": "stream",
     "text": [
      "Hello all \n"
     ]
    }
   ],
   "source": [
    "#eg:1\n",
    "#This is a comment in python\n",
    "print('Hello all ')\n"
   ]
  },
  {
   "cell_type": "code",
   "execution_count": 46,
   "metadata": {},
   "outputs": [
    {
     "name": "stdout",
     "output_type": "stream",
     "text": [
      "Hello all\n"
     ]
    }
   ],
   "source": [
    " #eg2:\n",
    "print(\"Hello all\") #this a comment \n",
    "\n"
   ]
  },
  {
   "cell_type": "code",
   "execution_count": 52,
   "metadata": {},
   "outputs": [
    {
     "name": "stdout",
     "output_type": "stream",
     "text": [
      " Happy Learning\n"
     ]
    },
    {
     "data": {
      "text/plain": [
       "'hello all\\nsubscribe the channel\\nand  support'"
      ]
     },
     "execution_count": 52,
     "metadata": {},
     "output_type": "execute_result"
    }
   ],
   "source": [
    "#To add a multiline comment you could insert a # for each line:\n",
    "#eg: 3\n",
    "#This is a comment\n",
    "#written in\n",
    "#more than just one line\n",
    "#OR\n",
    "#To add multiline comment\n",
    "#eg  4 : \n",
    "\n",
    "print(' Happy Learning')\n",
    "'''hello all\n",
    "subscribe the channel\n",
    "and  support'''\n",
    "\n"
   ]
  },
  {
   "cell_type": "markdown",
   "metadata": {},
   "source": [
    "# KEYWORDS IN PYTHON"
   ]
  },
  {
   "cell_type": "raw",
   "metadata": {},
   "source": [
    "Keywords are the words that convey a special meaning to the language compiler/interpreter"
   ]
  },
  {
   "cell_type": "raw",
   "metadata": {},
   "source": [
    "#keywords \n",
    "in         break        from           assert                     \n",
    "or         raise         False          lambda\n",
    "if         elif           True           yield\n",
    "is         not            class           nonlocal\n",
    "for      while        return         continue\n",
    " try      pass          else             global\n",
    "del       with         except         import\n",
    "def        as            and             \n",
    "Non      finally\n"
   ]
  },
  {
   "cell_type": "code",
   "execution_count": 44,
   "metadata": {},
   "outputs": [
    {
     "name": "stdout",
     "output_type": "stream",
     "text": [
      "1\n",
      "2\n",
      "3\n",
      "4\n",
      "5\n",
      "6\n",
      "7\n",
      "8\n",
      "9\n",
      "10\n",
      "11\n",
      "12\n",
      "13\n",
      "14\n",
      "15\n"
     ]
    }
   ],
   "source": [
    "i=[1,2,3,4,5,6,7,8,9,10,11,12,13,14,15]\n",
    "#print(i)\n",
    "for a in i:\n",
    "    print(a)"
   ]
  },
  {
   "cell_type": "markdown",
   "metadata": {},
   "source": [
    " # Variables & Constants"
   ]
  },
  {
   "cell_type": "raw",
   "metadata": {},
   "source": [
    "A variable is a named location used to store data in the memory\n",
    "A constant is a type of variable whose value cannot be changed"
   ]
  },
  {
   "cell_type": "raw",
   "metadata": {},
   "source": [
    "#Rules and Naming Convention for Variables and constants\n",
    "1)Constant and variable names  should have a combination of letters in lowercase(a-z)or uppercase(A-Z) or digits(0 to 9) or an underscore(_) for example :v,V,V1,Var_1.\n",
    "2)if you want to create a variable name having two words,use underscore to separtae them  for example:combined_data,combined_df\n",
    "3)Use capital letters possible to declare a constant. For example :PI=3.14\n",
    "4)Never use special symbols like !, @, #, $, %, etc.\n",
    "5)Dont start a variable name with a digit.'''\n"
   ]
  },
  {
   "cell_type": "code",
   "execution_count": 20,
   "metadata": {},
   "outputs": [
    {
     "name": "stdout",
     "output_type": "stream",
     "text": [
      "10\n"
     ]
    }
   ],
   "source": [
    "#Assign value using  =  operator    eg:\n",
    "a=10    \n",
    "print(a)       \n"
   ]
  },
  {
   "cell_type": "code",
   "execution_count": 22,
   "metadata": {},
   "outputs": [
    {
     "name": "stdout",
     "output_type": "stream",
     "text": [
      "11\n"
     ]
    }
   ],
   "source": [
    "#Changing the value of a variable   eg:  \n",
    "no=10\n",
    "#suppose if i assign a other value to the same variable \n",
    "no=11\n",
    "'''THE OUTPUT WILL BE 11 (Initially the no assigned a value as 10 then it was changed to 11)\n",
    "In Python, we dont  actually assign values to the variables. \n",
    "Instead, Python gives the reference of the object(value) to the variable.'''\n",
    "\n",
    "print(no)\n"
   ]
  },
  {
   "cell_type": "code",
   "execution_count": 54,
   "metadata": {},
   "outputs": [
    {
     "name": "stdout",
     "output_type": "stream",
     "text": [
      "1 data 3.0\n",
      "<class 'float'>\n"
     ]
    }
   ],
   "source": [
    "#Assigning multiple values to multiple variables   eg:  \n",
    "a,b,c=1,\"data\",3.0\n",
    "print(a,b,c) \n",
    "print(type(c))\n",
    "\n"
   ]
  },
  {
   "cell_type": "code",
   "execution_count": 55,
   "metadata": {},
   "outputs": [
    {
     "name": "stdout",
     "output_type": "stream",
     "text": [
      "same same same\n"
     ]
    }
   ],
   "source": [
    "#Assign the same value to multiple variables at once    eg:\n",
    "x = y = z = \"same\" \n",
    "print(x,y,z)  \n"
   ]
  },
  {
   "cell_type": "markdown",
   "metadata": {},
   "source": [
    "# DATATYPES"
   ]
  },
  {
   "cell_type": "raw",
   "metadata": {},
   "source": [
    "Everything is an object in Python programming, Data types are actually classes and variables are instance (object) of these classes.\n",
    "Integers, floating point numbers and complex numbers fall under Python numbers category. They are defined   as int, float and complex  classes in Python.\n"
   ]
  },
  {
   "cell_type": "code",
   "execution_count": 56,
   "metadata": {},
   "outputs": [
    {
     "name": "stdout",
     "output_type": "stream",
     "text": [
      "1\n",
      "1.0\n",
      "(1+2j)\n"
     ]
    }
   ],
   "source": [
    "a=1        \n",
    "b=1.0      \n",
    "c=1+2j\n",
    "print(a)\n",
    "print(b)\n",
    "print(c)\n"
   ]
  },
  {
   "cell_type": "code",
   "execution_count": 57,
   "metadata": {},
   "outputs": [
    {
     "name": "stdout",
     "output_type": "stream",
     "text": [
      "<class 'int'>\n",
      "<class 'float'>\n",
      "<class 'complex'>\n"
     ]
    }
   ],
   "source": [
    "#Use the type() function to know which class a variable or a value belongs to. \n",
    "#eg:\n",
    "print(type(a))\n",
    "print(type(b))\n",
    "print(type(c))\n",
    "\n"
   ]
  },
  {
   "cell_type": "code",
   "execution_count": 58,
   "metadata": {},
   "outputs": [
    {
     "name": "stdout",
     "output_type": "stream",
     "text": [
      "(1+2j) iscomplexnumber? True\n"
     ]
    }
   ],
   "source": [
    "#Similarly, the isinstance() function is used to check if an object belongs to a particular class.\n",
    "#eg:\n",
    "var=1+2j\n",
    "print(var,\"iscomplexnumber?\",isinstance(1+2j,complex))\n"
   ]
  },
  {
   "cell_type": "markdown",
   "metadata": {},
   "source": [
    "# PUNCTUATORS"
   ]
  },
  {
   "cell_type": "raw",
   "metadata": {},
   "source": [
    "Punctuators are symbols that are used in programming languages to organize sentence structures,and indicate the rhythm and emphasis of expressions,statements,and program structure\n",
    "\n",
    "'  \"   #   \\   ()   []   {}   @    ,   :   .  ="
   ]
  },
  {
   "cell_type": "code",
   "execution_count": null,
   "metadata": {},
   "outputs": [],
   "source": []
  }
 ],
 "metadata": {
  "kernelspec": {
   "display_name": "Python 3",
   "language": "python",
   "name": "python3"
  },
  "language_info": {
   "codemirror_mode": {
    "name": "ipython",
    "version": 3
   },
   "file_extension": ".py",
   "mimetype": "text/x-python",
   "name": "python",
   "nbconvert_exporter": "python",
   "pygments_lexer": "ipython3",
   "version": "3.7.6"
  }
 },
 "nbformat": 4,
 "nbformat_minor": 4
}
